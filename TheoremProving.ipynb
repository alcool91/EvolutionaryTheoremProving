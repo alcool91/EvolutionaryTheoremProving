{
 "cells": [
  {
   "cell_type": "code",
   "execution_count": 1,
   "id": "ecd87469-ee9e-4013-a059-06a434253973",
   "metadata": {},
   "outputs": [],
   "source": [
    "import random\n",
    "import copy\n",
    "MAX_LENGTH = 50"
   ]
  },
  {
   "cell_type": "code",
   "execution_count": 16,
   "id": "3d4e89ed-837c-4ceb-9b7c-05a8e62bfd99",
   "metadata": {},
   "outputs": [],
   "source": [
    "alphabet = ['a','b','c','d','e','f','g','h','i','j','k','l','m','n','o','p','q','r','s','t','u','v','w','x','y','z']\n",
    "def flatten(t):\n",
    "    return [item for sublist in t for item in sublist]\n",
    "\n",
    "symbols = {\n",
    " 'Implies':   '\\u21D2',\n",
    " 'Or':        '\\u2228',\n",
    " 'And':       '\\u2227',\n",
    " 'Not':       '\\u00AC',\n",
    " 'Equivalent':'\\u21D4'\n",
    "}\n",
    "\n",
    "\n",
    "class Prover:\n",
    "    \n",
    "    def __init__(self, to_prove, premises=[]):\n",
    "        self.conclusion= None\n",
    "        self.conc_val  = -1\n",
    "        self.to_prove  = to_prove._clone()\n",
    "        self.proven    = False\n",
    "        self.alphabet  = ['a','b','c','d','e','f','g','h','i','j','k','l','m','n','o','p','q','r','s','t','u','v','w','x','y','z']\n",
    "        self.vars      = self.to_prove.get_vars()\n",
    "        self.init_terms= self.to_prove.get_terms()\n",
    "        self.terms     = self.to_prove.get_terms()\n",
    "        self.available = [v for v in alphabet if v not in self.vars]\n",
    "        self.premises  = premises[:]\n",
    "        self.proof_seq = premises[:]\n",
    "        self.ACP       = []\n",
    "        if len(self.proof_seq) == 0:\n",
    "            #print('enter if')\n",
    "            ax_num = random.randint(0,3)\n",
    "            subs   = []\n",
    "            while len(subs) < 4:\n",
    "                term_num = random.randint(0, len(self.terms)-1)\n",
    "                term_candidate = self.terms[term_num]\n",
    "                chance = random.random()\n",
    "                if chance < (1/(term_candidate.height())):\n",
    "                    subs.append(self.terms[term_num])\n",
    "            ax_cand = Axiom(ax_num, subs)\n",
    "            self.add_step(ax_cand)\n",
    "       \n",
    "    def deduce(self):\n",
    "        if self.to_prove.name == \"Implies\":\n",
    "            self.ACP.append(self.to_prove.operands[0]._clone())\n",
    "            assumption = self.to_prove.operands[0]._clone()\n",
    "            assumption.derived_by = \"ACP\"\n",
    "            self.proof_seq.append(assumption)\n",
    "            self.to_prove = self.to_prove.operands[1]._clone()\n",
    "    \n",
    "    \n",
    "    def thm_value(self, op1):\n",
    "        if op1 == self.to_prove:\n",
    "            return 50\n",
    "        elif op1.includes_in_consequent(self.to_prove):\n",
    "            return (1/(1+(op1.height() - self.to_prove.height())))\n",
    "        else:\n",
    "            return 0\n",
    "            \n",
    "    def add_step(self, op):\n",
    "        if op not in self.proof_seq:\n",
    "            self.proof_seq.append(op)\n",
    "            self.proof_seq[-1].get_terms(self.terms)\n",
    "            self.check_last_thm()\n",
    "            if self.thm_value(op) > self.conc_val:\n",
    "                self.conclusion = op\n",
    "                self.conc_val   = self.thm_value(op)\n",
    "    \n",
    "    \n",
    "    def _clone(self):\n",
    "        return copy.deepcopy(self)\n",
    "    \n",
    "    def __repr__(self):\n",
    "        rep = \"\"\n",
    "        rep += \"To Prove: \" + str(self.to_prove) + \"\\n\"\n",
    "        for step in self.proof_seq:\n",
    "            rep += str(step)\n",
    "            rep += \"\\n\"\n",
    "        rep += \"--- Therefore ---\\n\" + str(self.conclusion)\n",
    "        return rep\n",
    "    \n",
    "    def fix_lines(self):\n",
    "        for i in range(len(self.proof_seq)):\n",
    "            self.proof_seq[i].set_line(i+1)\n",
    "            \n",
    "    def check_proof(self):\n",
    "        for line in self.proof_seq:\n",
    "            if line == self.to_prove:\n",
    "                self.proven=True\n",
    "                \n",
    "    def check_last_thm(self):\n",
    "        if self.proof_seq[-1] == self.to_prove and len(self.ACP) == 0:\n",
    "            self.proven = True\n",
    "        elif self.proof_seq[-1] == self.to_prove:\n",
    "            antecedent    = self.ACP.pop()\n",
    "            new_thm       = Operator(\"Implies\", [antecedent, self.to_prove])._clone()\n",
    "            self.to_prove = new_thm._clone()\n",
    "            new_thm.derived_by = \"CP\"\n",
    "            self.add_step(new_thm)\n",
    "            self.check_last_thm()\n",
    "\n",
    "class Operator:\n",
    "    \n",
    "    def __init__(self, name, operands=[], line=-1, derived_from=[], derives=[], derived_by=\"\"):\n",
    "        self.name = name\n",
    "        if self.name in ['And', 'Or', 'Implies', 'Eqivalent']:\n",
    "            self.arity=2\n",
    "        elif self.name in ['Not']:\n",
    "            self.arity=1\n",
    "        elif self.name in alphabet:\n",
    "            self.arity=0\n",
    "        else:\n",
    "            print(self.name in alphabet)\n",
    "            print(self.name)\n",
    "            print(type(self.name))\n",
    "        self.operands = operands[:self.arity]\n",
    "        self.derived_from= derived_from\n",
    "        self.derives = derives\n",
    "        self.line = line\n",
    "        self.derived_by=derived_by\n",
    "        \n",
    "    def set_line(self, line_num):\n",
    "        self.line=line_num\n",
    "        \n",
    "    def _clone(self):\n",
    "        return copy.deepcopy(self)\n",
    "        \n",
    "    def __repr__(self):\n",
    "        \n",
    "        if self.line != -1:\n",
    "            this_op = str(self.line) + '. '\n",
    "        else:\n",
    "            this_op = \"\"\n",
    "        if len(self.operands) > 1:\n",
    "            this_op += '('\n",
    "            this_op += str(self.operands[0])\n",
    "            this_op += symbols[self.name]\n",
    "            this_op += str(self.operands[1])\n",
    "            this_op += ')'\n",
    "        elif len(self.operands) == 1:\n",
    "            this_op += symbols[self.name]\n",
    "            this_op += str(self.operands[0])\n",
    "        elif len(self.operands) == 0:\n",
    "            this_op += self.name\n",
    "        if self.line != -1:\n",
    "            if len(self.derived_from) > 0:\n",
    "                this_op += '\\t ' + str([str(l.line) + ' ' for l in self.derived_from])\n",
    "            this_op += '\\t ' + self.derived_by\n",
    "        \n",
    "        \n",
    "        return this_op\n",
    "    \n",
    "    def get_fn_repr(self):\n",
    "        if self.line != -1:\n",
    "            this_op = str(self.line) + '. ' + self.name\n",
    "        else:\n",
    "            this_op = self.name\n",
    "        if len(self.operands) > 0:\n",
    "            this_op += '('\n",
    "            for op in self.operands:\n",
    "                this_op += str(op)\n",
    "            this_op += ')'\n",
    "        if self.line != -1:\n",
    "            if len(self.derived_from) > 0:\n",
    "                this_op += '\\t ' + str([str(l.line) + ' ' for l in self.derived_from])\n",
    "            this_op += '\\t ' + self.derived_by\n",
    "        return this_op\n",
    "    \n",
    "    def get_vars(self, var_list=[]):\n",
    "        if self.arity==0:\n",
    "            var_list.append(self.name)\n",
    "            return var_list\n",
    "        else:\n",
    "            for op in self.operands:\n",
    "                op.get_vars(var_list)\n",
    "            return var_list\n",
    "        \n",
    "    def height(self):\n",
    "        if self.arity == 0:\n",
    "            return 1\n",
    "        else:\n",
    "            return 1 + max([op.height() for op in self.operands])\n",
    "    \n",
    "    def get_terms(self, term_list=[]):\n",
    "        if self not in term_list:\n",
    "            cp = self._clone()\n",
    "            cp.set_line(-1)\n",
    "            term_list.append(cp)\n",
    "        if self.arity == 0:\n",
    "            return term_list\n",
    "        else:\n",
    "            for op in self.operands:\n",
    "                op.get_terms(term_list)\n",
    "            return term_list\n",
    "    \n",
    "    def __eq__(self, other):\n",
    "        if isinstance(other, self.__class__):\n",
    "            return self.name == other.name and self.operands == other.operands\n",
    "        else:\n",
    "            return False\n",
    "\n",
    "    def __ne__(self, other):\n",
    "        return not self.__eq__(other)\n",
    "    \n",
    "    def includes(self, other):\n",
    "        if self == other:\n",
    "            return True\n",
    "        elif (self.arity == 0 and self != other):\n",
    "            return False\n",
    "        else:\n",
    "            for operand in self.operands:\n",
    "                if operand.includes(other):\n",
    "                    return True\n",
    "            return False\n",
    "        \n",
    "    def includes_in_consequent(self, other):\n",
    "        if self.name != 'Implies':\n",
    "            return self.includes(other)\n",
    "        if self == other:\n",
    "            return True\n",
    "        elif (self.arity == 0 and self != other):\n",
    "            return False\n",
    "        else:\n",
    "            if self.operands[1].includes(other):\n",
    "                return True\n",
    "            return False\n",
    "    \n",
    "def Axiom(num, substitutions):\n",
    "    if num == 0:\n",
    "        return Operator('Implies', [substitutions[0], substitutions[0]], derived_by='Ax0')\n",
    "    elif num == 1:\n",
    "        return Operator('Implies', [substitutions[0], Operator('Implies', [substitutions[1], substitutions[0]] )], derived_by='Ax1')\n",
    "    elif num == 2:\n",
    "        return Operator('Implies', [Operator('Implies', [substitutions[0], Operator('Implies', [substitutions[1], substitutions[2]])]), Operator('Implies', [Operator('Implies', [substitutions[0], substitutions[1]]), \\\n",
    "                Operator('Implies', [substitutions[0], substitutions[2]])])], derived_by='Ax2')\n",
    "    elif num == 3:\n",
    "        return Operator('Implies', [Operator('Implies', [substitutions[0], substitutions[1]]), Operator('Implies', [Operator('Not', [substitutions[1]]), Operator('Not', [substitutions[0]])])], derived_by='Ax3')\n",
    "    \n",
    "def MP(op1, op2, individual):\n",
    "    if op1.name == 'Implies' and op2 == op1.operands[0]:\n",
    "        new_thm = Operator(op1.operands[1].name, op1.operands[1].operands, derived_from=[op1, op2], derived_by='MP')\n",
    "        if new_thm not in individual.proof_seq:\n",
    "            op1.derives.append(new_thm)\n",
    "            op2.derives.append(new_thm)\n",
    "            individual.add_step(new_thm)\n",
    "            \n",
    "    elif op2.name == 'Implies' and op1 == op2.operands[0]:\n",
    "        new_thm = Operator(op2.operands[1].name, op2.operands[1].operands, derived_from=[op2, op1], derived_by='MP')\n",
    "        if new_thm not in individual.proof_seq:\n",
    "            op1.derives.append(new_thm)\n",
    "            op2.derives.append(new_thm)\n",
    "            individual.add_step(new_thm)\n",
    "\n",
    "\n",
    "def mut(prvr):\n",
    "    AXP = 1#0.5\n",
    "    RMP = 0#0.02\n",
    "    ORP = 0#0.02\n",
    "    ANP = 0#0.01\n",
    "    if random.random() < AXP and len(prvr.proof_seq) < MAX_LENGTH and not prvr.proven:  #Invoke an axiom with a term seen in 'to-prove' or any derived term\n",
    "        #print('Adding Axiom')\n",
    "        ax_num = random.randint(0,3)\n",
    "        subs   = []\n",
    "        while len(subs) < 4:\n",
    "            term_num = random.randint(0, len(prvr.terms)-1)\n",
    "            term_candidate = prvr.terms[term_num]\n",
    "            chance = random.random()\n",
    "            if chance < (1/(term_candidate.height())):\n",
    "                subs.append(prvr.terms[term_num])\n",
    "        ax_cand = Axiom(ax_num, subs)\n",
    "        prvr.add_step(ax_cand)\n",
    "        # if ax_cand not in prvr.proof_seq:\n",
    "        #     prvr.proof_seq.append(Axiom(ax_num, subs))\n",
    "        #     prvr.proof_seq[0].set_line(1)\n",
    "        #     prvr.proof_seq[0].get_terms(prvr.terms)\n",
    "        #     prvr.check_last_thm()\n",
    "        #     if prvr.thm_value(ax_cand) > prvr.conc_val:\n",
    "        #         prvr.conclusion = ax_cand\n",
    "        #         prvr.conc_val   = prvr.thm_value(ax_cand)\n",
    "        #     if prvr.thm_value(ax_cand) > prvr.conc_val:\n",
    "        #         prvr.conclusion = ax_cand\n",
    "        #         prvr.conc_val   = prvr.thm_value(ax_cand)\n",
    "        #print('Done Adding Axiom')\n",
    "        \n",
    "    if random.random() < RMP and len(prvr.proof_seq) > 2:\n",
    "        print('Removing Branch')\n",
    "        rmv = []\n",
    "        indx = random.randint(1, len(prvr.proof_seq)-1)\n",
    "        rmv.append(prvr.proof_seq[indx])\n",
    "        k = 0\n",
    "        print('k=',k)\n",
    "        print(rmv)\n",
    "        print(len(rmv))\n",
    "        while k < len(rmv):\n",
    "            for trm in rmv[k].derives:\n",
    "                rmv.append(trm)\n",
    "            k += 1\n",
    "            print('k=',k)\n",
    "            print(rmv)\n",
    "            print(len(rmv))\n",
    "        for trm in rmv:\n",
    "            prvr.proof_seq.remove(trm)\n",
    "            for i in range(len(prvr.proof_seq)-1):\n",
    "                prvr.proof_seq[i].set_line(i)\n",
    "        print('Done Removing')\n",
    "        \n",
    "    if random.random() < ORP and len(prvr.proof_seq) < MAX_LENGTH and not prvr.proven:\n",
    "        #print('Or Instructions')\n",
    "        trm_num = random.randint(0, len(prvr.init_terms)-1)\n",
    "        thm_num = random.randint(0, len(prvr.proof_seq) -1)\n",
    "        new_thm1 = prvr.proof_seq[thm_num]._clone()\n",
    "        new_thm1.set_line(-1)\n",
    "        new_thm2 = prvr.init_terms[trm_num]._clone()\n",
    "        new_thm  = Operator('Or', [new_thm1, new_thm2])\n",
    "        prvr.proof_seq.append(new_thm)\n",
    "        #print('Done with Or')\n",
    "    \n",
    "def Rule(name, operand):\n",
    "    if name == 'Double Negation':\n",
    "        if operand.name == 'Not' and operand.operands[0].name == 'Not':\n",
    "            new_thm = Operator(operand.operands[0].operands[0].name, operand.operands[0].operands[0], derived_from=[operand], derived_by='Double Negation')\n",
    "            return new_thm\n",
    "    #if name == '"
   ]
  },
  {
   "cell_type": "code",
   "execution_count": null,
   "id": "596028ed-7c35-439d-8e1e-74375da4b600",
   "metadata": {},
   "outputs": [],
   "source": []
  },
  {
   "cell_type": "code",
   "execution_count": 17,
   "id": "fe1e7aae-1588-4a1c-995b-02f7394bf469",
   "metadata": {},
   "outputs": [],
   "source": [
    "def fit(prvr):\n",
    "    fitness = 0\n",
    "    conc = prvr.conclusion\n",
    "    if conc.includes_in_consequent(prvr.to_prove):\n",
    "        fitness += 1/(1+(conc.height() - prvr.to_prove.height()))\n",
    "    if conc == prvr.to_prove:\n",
    "        fitness += 6 + MAX_LENGTH - len(prvr.proof_seq)\n",
    "    return fitness\n",
    "        "
   ]
  },
  {
   "cell_type": "code",
   "execution_count": 18,
   "id": "5af1aa5a-9078-4c31-a7f8-df3a69139369",
   "metadata": {},
   "outputs": [
    {
     "name": "stdout",
     "output_type": "stream",
     "text": [
      "Generation:  1\n",
      "-----New Best Fitness!-----\n",
      "0\n",
      "[(a⇒((a⇒c)⇒a))]\n",
      "-----New Best Fitness!-----\n",
      "0.3333333333333333\n",
      "[(a⇒(((b⇒c)⇒((a⇒b)⇒(a⇒c)))⇒a))]\n",
      "Generation:  2\n",
      "-----New Best Fitness!-----\n",
      "0.5\n",
      "[((((a⇒c)⇒c)⇒((c⇒b)⇒¬(¬b⇒¬b)))⇒((((a⇒c)⇒c)⇒(c⇒b))⇒(((a⇒c)⇒c)⇒¬(¬b⇒¬b)))), (((b⇒c)⇒((a⇒b)⇒(a⇒c)))⇒((b⇒c)⇒((a⇒b)⇒(a⇒c))))]\n",
      "Generation:  3\n",
      "Generation:  4\n",
      "Done\n"
     ]
    }
   ],
   "source": [
    "POP_SIZE   = 45\n",
    "DEDUCE_P   = 0.2\n",
    "ToProve    = Operator('Implies', [Operator('Implies', [Operator('b'), Operator('c')]), Operator('Implies', [Operator('Implies', [Operator('a'), Operator('b')])  ,Operator('Implies', [Operator('a'), Operator('c')]) ])])#Operator('Implies', [Operator('a'), Operator('a')])\n",
    "population = []\n",
    "for i in range(POP_SIZE):\n",
    "    ptoprov = ToProve._clone()\n",
    "    population.append(Prover(ptoprov))\n",
    "generation = 1\n",
    "best_fitness = -1\n",
    "best_proof   = None\n",
    "\n",
    "while generation < 5:\n",
    "    print('Generation: ', generation)\n",
    "    this_gen_fitness = []\n",
    "    for i in range(len(population)):\n",
    "        this_gen_fitness.append(fit(population[i])) #Evaluate fitness of the ith popoulation member and save it\n",
    "        if (fit(population[i]) > best_fitness):       #Keep track of the best program so far\n",
    "            best_fitness = fit(population[i])\n",
    "            best_proof    = population[i]._clone()\n",
    "            print('-----New Best Fitness!-----')\n",
    "            print(best_fitness)\n",
    "            print(best_proof.proof_seq)\n",
    "            # logfile.write('-----New Best Fitness!-----\\n')\n",
    "            # logfile.write(str(best_fitness) + '\\n\\n')\n",
    "            # logfile.write(str(best_prog))\n",
    "    next_gen = []\n",
    "    sorted_by_fitness = sorted(range(len(this_gen_fitness)), key=lambda x: this_gen_fitness[x], reverse=True)\n",
    "    next_gen += [population[sorted_by_fitness[i]]._clone() for i in range(5)]\n",
    "    #print('making next gen')\n",
    "    while len(next_gen) < POP_SIZE:\n",
    "        ind1 = random.randint(0, POP_SIZE-1)\n",
    "        ind2 = random.randint(0, POP_SIZE-1)\n",
    "        if ind1 > ind2:\n",
    "            next_gen.append(population[sorted_by_fitness[ind1]]._clone())\n",
    "        else:\n",
    "            next_gen.append(population[sorted_by_fitness[ind2]]._clone())\n",
    "    #print('made next gen')\n",
    "    for ind in next_gen:\n",
    "        #print('mutation')\n",
    "        #print(ind)\n",
    "        mut(ind)\n",
    "        if random.random() < DEDUCE_P:\n",
    "            ind.deduce()\n",
    "        if not ind.proven and ind.conclusion.name == 'Implies':\n",
    "                for i in range(len(ind.proof_seq)):\n",
    "                    if ind.proof_seq[i] == ind.conclusion.operands[0]:\n",
    "                        #print('Modus Ponens')\n",
    "                        MP(ind.proof_seq[i], ind.conclusion, ind)\n",
    "                        #ind.add_step(cand)\n",
    "        #print('done mutation')\n",
    "        for k in range(4):\n",
    "            inst = random.randint(0, len(ind.proof_seq)-1)\n",
    "            if  not ind.proven and ind.proof_seq[inst].name == 'Implies':\n",
    "                for i in range(len(ind.proof_seq)):\n",
    "                    if ind.proof_seq[i] == ind.proof_seq[inst].operands[0]:\n",
    "                        #print('Modus Ponens')\n",
    "                        MP(ind.proof_seq[i], ind.proof_seq[inst], ind)\n",
    "                        #ind.add_step(cand)\n",
    "                        # if cand not in ind.proof_seq:\n",
    "                        #     ind.proof_seq.append(MP(ind.proof_seq[i], ind.proof_seq[inst]))\n",
    "                        #     ind.check_last_thm()\n",
    "                    #print('Modus Ponens Done!')\n",
    "    #print('To next gen')\n",
    "    population = next_gen\n",
    "    generation += 1\n",
    "    \n",
    "for prvr in population:\n",
    "    prvr.fix_lines()\n",
    "print(\"Done\")"
   ]
  },
  {
   "cell_type": "code",
   "execution_count": 19,
   "id": "a87928ce-12bc-4ab8-9066-b8404521d163",
   "metadata": {},
   "outputs": [
    {
     "data": {
      "text/plain": [
       "To Prove: ((b⇒c)⇒((a⇒b)⇒(a⇒c)))\n",
       "1. ((((a⇒c)⇒c)⇒((c⇒b)⇒¬(¬b⇒¬b)))⇒((((a⇒c)⇒c)⇒(c⇒b))⇒(((a⇒c)⇒c)⇒¬(¬b⇒¬b))))\t Ax2\n",
       "2. (((b⇒c)⇒((a⇒b)⇒(a⇒c)))⇒((b⇒c)⇒((a⇒b)⇒(a⇒c))))\t Ax0\n",
       "--- Therefore ---\n",
       "2. (((b⇒c)⇒((a⇒b)⇒(a⇒c)))⇒((b⇒c)⇒((a⇒b)⇒(a⇒c))))\t Ax0"
      ]
     },
     "execution_count": 19,
     "metadata": {},
     "output_type": "execute_result"
    }
   ],
   "source": [
    "best_proof.fix_lines()\n",
    "best_proof"
   ]
  },
  {
   "cell_type": "code",
   "execution_count": 12,
   "id": "08ff3eb8-5beb-42cd-a0a8-a58db64e4e95",
   "metadata": {},
   "outputs": [
    {
     "data": {
      "text/plain": [
       "'1. (Implies(Not(Implies(ab))Not(Implies(ab)))⇒Implies(Not(Implies(ab))Not(Implies(ab))))\\t Ax0'"
      ]
     },
     "execution_count": 12,
     "metadata": {},
     "output_type": "execute_result"
    }
   ],
   "source": [
    "best_proof.proof_seq[0].get_math_repr()"
   ]
  },
  {
   "cell_type": "code",
   "execution_count": 19,
   "id": "00642c19-bc88-4852-94a3-2b9f56e7ba83",
   "metadata": {},
   "outputs": [
    {
     "data": {
      "text/plain": [
       "0"
      ]
     },
     "execution_count": 19,
     "metadata": {},
     "output_type": "execute_result"
    }
   ],
   "source": [
    "population[1].thm_value(population[1].proof_seq[0])"
   ]
  },
  {
   "cell_type": "code",
   "execution_count": 20,
   "id": "9e330fdd-4f5b-4549-a5fa-18c9117d7e09",
   "metadata": {},
   "outputs": [
    {
     "data": {
      "text/plain": [
       "To Prove: Implies(Implies(ab)Implies(ac))\n",
       "1. Implies(Implies(Implies(Implies(Implies(bb)b)Implies(Not(b)Not(Implies(bb))))Implies(Implies(ab)Implies(Not(b)Not(a))))Implies(Not(Implies(Implies(ab)Implies(Not(b)Not(a))))Not(Implies(Implies(Implies(bb)b)Implies(Not(b)Not(Implies(bb)))))))\t Ax3\n",
       "2. Implies(Implies(Implies(Implies(Not(b)b)Implies(Not(b)Not(c)))Not(Implies(bb)))Implies(Implies(Implies(Not(b)b)Implies(Not(b)Not(c)))Not(Implies(bb))))\t Ax0\n",
       "3. Implies(bc)\t ACP\n",
       "4. Implies(Not(Implies(Implies(Implies(bb)b)Implies(Not(b)Not(Implies(bb)))))Not(Implies(Implies(Implies(bb)b)Implies(Not(b)Not(Implies(bb))))))\t Ax0\n",
       "5. Implies(ab)\t ACP\n",
       "6. Implies(bb)\t Ax0\n",
       "7. a\t ACP\n",
       "8. Implies(Implies(Implies(Implies(Implies(bb)Implies(bb))Implies(Implies(aImplies(bb))Not(a)))Not(b))Implies(Implies(Implies(Implies(bb)Implies(bb))Implies(Implies(aImplies(bb))Not(a)))Not(b)))\t Ax0\n",
       "9. Implies(Implies(aImplies(Implies(Implies(Implies(bc)Implies(Implies(ab)Implies(ac)))Not(b))Implies(Implies(Not(b)Implies(bNot(c)))Implies(Implies(Not(b)b)Implies(Not(b)Not(c))))))Implies(Implies(aImplies(Implies(Implies(bc)Implies(Implies(ab)Implies(ac)))Not(b)))Implies(aImplies(Implies(Not(b)Implies(bNot(c)))Implies(Implies(Not(b)b)Implies(Not(b)Not(c)))))))\t Ax2\n",
       "10. Implies(Implies(Implies(aImplies(bb))Implies(Implies(Not(Implies(Implies(Implies(bb)b)Implies(Not(b)Not(Implies(bb)))))Not(Implies(Implies(Implies(bb)b)Implies(Not(b)Not(Implies(bb))))))Not(Not(c))))Implies(Implies(Implies(aImplies(bb))Implies(Not(Implies(Implies(Implies(bb)b)Implies(Not(b)Not(Implies(bb)))))Not(Implies(Implies(Implies(bb)b)Implies(Not(b)Not(Implies(bb)))))))Implies(Implies(aImplies(bb))Not(Not(c)))))\t Ax2\n",
       "11. Implies(Implies(Implies(Implies(aImplies(bImplies(Implies(Implies(Not(b)b)Implies(Not(b)Not(c)))Not(Implies(bb)))))Implies(Implies(ab)Implies(aImplies(Implies(Implies(Not(b)b)Implies(Not(b)Not(c)))Not(Implies(bb))))))Implies(Implies(Implies(Implies(Implies(Implies(bb)b)Implies(Not(b)Not(Implies(bb))))Implies(Implies(ab)Implies(Not(b)Not(a))))Implies(Not(Implies(Implies(ab)Implies(Not(b)Not(a))))Not(Implies(Implies(Implies(bb)b)Implies(Not(b)Not(Implies(bb)))))))Implies(Implies(Implies(Implies(Implies(bb)b)Implies(Not(b)Not(Implies(bb))))Implies(Implies(ab)Implies(Not(b)Not(a))))Implies(Not(Implies(Implies(ab)Implies(Not(b)Not(a))))Not(Implies(Implies(Implies(bb)b)Implies(Not(b)Not(Implies(bb)))))))))Implies(Implies(Implies(Implies(aImplies(bImplies(Implies(Implies(Not(b)b)Implies(Not(b)Not(c)))Not(Implies(bb)))))Implies(Implies(ab)Implies(aImplies(Implies(Implies(Not(b)b)Implies(Not(b)Not(c)))Not(Implies(bb))))))Implies(Implies(Implies(Implies(Implies(bb)b)Implies(Not(b)Not(Implies(bb))))Implies(Implies(ab)Implies(Not(b)Not(a))))Implies(Not(Implies(Implies(ab)Implies(Not(b)Not(a))))Not(Implies(Implies(Implies(bb)b)Implies(Not(b)Not(Implies(bb))))))))Implies(Implies(Implies(aImplies(bImplies(Implies(Implies(Not(b)b)Implies(Not(b)Not(c)))Not(Implies(bb)))))Implies(Implies(ab)Implies(aImplies(Implies(Implies(Not(b)b)Implies(Not(b)Not(c)))Not(Implies(bb))))))Implies(Implies(Implies(Implies(Implies(bb)b)Implies(Not(b)Not(Implies(bb))))Implies(Implies(ab)Implies(Not(b)Not(a))))Implies(Not(Implies(Implies(ab)Implies(Not(b)Not(a))))Not(Implies(Implies(Implies(bb)b)Implies(Not(b)Not(Implies(bb))))))))))\t Ax2\n",
       "12. b\t ['5 ', '7 ']\t MP\n",
       "13. Implies(Implies(bImplies(ca))Implies(Implies(Not(Implies(Implies(ab)Implies(Not(b)Not(a))))Not(Implies(Implies(Implies(bb)b)Implies(Not(b)Not(Implies(bb))))))Implies(bImplies(ca))))\t Ax1\n",
       "14. Implies(Implies(Not(Implies(Implies(Implies(ac)Implies(Implies(bImplies(bb))Implies(Not(a)Not(Implies(aImplies(bb))))))Implies(Implies(Implies(ac)Implies(bImplies(bb)))Implies(Implies(ac)Implies(Not(a)Not(Implies(aImplies(bb))))))))Not(Implies(Implies(aImplies(bb))Implies(Implies(ab)Implies(ab)))))Implies(Not(c)Implies(Not(Implies(Implies(Implies(ac)Implies(Implies(bImplies(bb))Implies(Not(a)Not(Implies(aImplies(bb))))))Implies(Implies(Implies(ac)Implies(bImplies(bb)))Implies(Implies(ac)Implies(Not(a)Not(Implies(aImplies(bb))))))))Not(Implies(Implies(aImplies(bb))Implies(Implies(ab)Implies(ab)))))))\t Ax1\n",
       "15. Implies(Implies(Implies(Not(c)Implies(Not(Implies(Implies(Implies(ac)Implies(Implies(bImplies(bb))Implies(Not(a)Not(Implies(aImplies(bb))))))Implies(Implies(Implies(ac)Implies(bImplies(bb)))Implies(Implies(ac)Implies(Not(a)Not(Implies(aImplies(bb))))))))Not(Implies(Implies(aImplies(bb))Implies(Implies(ab)Implies(ab))))))Implies(Implies(Implies(Implies(Implies(bb)Implies(bb))Implies(Implies(aImplies(bb))Not(a)))Not(b))a))Implies(Implies(Implies(Not(c)Implies(Not(Implies(Implies(Implies(ac)Implies(Implies(bImplies(bb))Implies(Not(a)Not(Implies(aImplies(bb))))))Implies(Implies(Implies(ac)Implies(bImplies(bb)))Implies(Implies(ac)Implies(Not(a)Not(Implies(aImplies(bb))))))))Not(Implies(Implies(aImplies(bb))Implies(Implies(ab)Implies(ab))))))Implies(Implies(Implies(Implies(bb)Implies(bb))Implies(Implies(aImplies(bb))Not(a)))Not(b)))Implies(Implies(Not(c)Implies(Not(Implies(Implies(Implies(ac)Implies(Implies(bImplies(bb))Implies(Not(a)Not(Implies(aImplies(bb))))))Implies(Implies(Implies(ac)Implies(bImplies(bb)))Implies(Implies(ac)Implies(Not(a)Not(Implies(aImplies(bb))))))))Not(Implies(Implies(aImplies(bb))Implies(Implies(ab)Implies(ab))))))a)))\t Ax2\n",
       "16. c\t ['3 ', '12 ']\t MP\n",
       "17. Implies(ac)\t CP\n",
       "18. Implies(Implies(ab)Implies(ac))\t CP\n",
       "19. Implies(Implies(bc)Implies(Implies(ab)Implies(ac)))\t CP\n",
       "20. Implies(bc)\t ACP\n",
       "--- Therefore ---\n",
       "19. Implies(Implies(bc)Implies(Implies(ab)Implies(ac)))\t CP"
      ]
     },
     "execution_count": 20,
     "metadata": {},
     "output_type": "execute_result"
    }
   ],
   "source": [
    "#population[0].proof_seq.append(Axiom(2, [Operator('a'), Operator('a'), Operator('a')]))\n",
    "population[0]"
   ]
  },
  {
   "cell_type": "code",
   "execution_count": 17,
   "id": "e3cfc922-b99e-48c9-b7f6-2e8eae847c85",
   "metadata": {},
   "outputs": [
    {
     "data": {
      "text/plain": [
       "True"
      ]
     },
     "execution_count": 17,
     "metadata": {},
     "output_type": "execute_result"
    }
   ],
   "source": [
    "population[0].proof_seq is population[1].proof_seq"
   ]
  },
  {
   "cell_type": "code",
   "execution_count": 7,
   "id": "d7d7bb67-6678-429d-956d-7aaafa9f7ed4",
   "metadata": {},
   "outputs": [
    {
     "data": {
      "text/plain": [
       "To Prove: Implies(Implies(bc)Implies(Implies(ab)Implies(ac)))\n",
       "1. Implies(Implies(Implies(Implies(Implies(Implies(Implies(Implies(Implies(Implies(ab)Implies(ac))Implies(Implies(ab)Implies(ac)))Not(c))Implies(Not(Not(c))Not(Implies(Implies(Implies(ab)Implies(ac))Implies(Implies(ab)Implies(ac))))))a)Implies(Not(Implies(Implies(Implies(Implies(Implies(Not(Implies(Implies(ab)Implies(ac)))Not(Implies(Implies(Implies(ab)Implies(ac))Implies(Implies(ab)Implies(ac)))))Implies(bImplies(bc)))Implies(Implies(Implies(Not(Implies(Implies(ab)Implies(ac)))Not(Implies(Implies(Implies(ab)Implies(ac))Implies(Implies(ab)Implies(ac)))))b)Implies(Implies(Not(Implies(Implies(ab)Implies(ac)))Not(Implies(Implies(Implies(ab)Implies(ac))Implies(Implies(ab)Implies(ac)))))Implies(bc))))Implies(aa))Implies(Implies(Implies(Implies(Not(Implies(Implies(ab)Implies(ac)))Not(Implies(Implies(Implies(ab)Implies(ac))Implies(Implies(ab)Implies(ac)))))Implies(bImplies(bc)))Implies(Implies(Implies(Not(Implies(Implies(ab)Implies(ac)))Not(Implies(Implies(Implies(ab)Implies(ac))Implies(Implies(ab)Implies(ac)))))b)Implies(Implies(Not(Implies(Implies(ab)Implies(ac)))Not(Implies(Implies(Implies(ab)Implies(ac))Implies(Implies(ab)Implies(ac)))))Implies(bc))))Not(Implies(bImplies(Implies(Implies(ab)Implies(ac))Implies(Implies(ab)Implies(ac))))))))Not(Implies(Implies(ab)Implies(Implies(Implies(Implies(Not(Implies(Implies(ab)Implies(ac)))Not(Implies(Implies(Implies(ab)Implies(ac))Implies(Implies(ab)Implies(ac)))))Implies(bImplies(bc)))Implies(Implies(Implies(Not(Implies(Implies(ab)Implies(ac)))Not(Implies(Implies(Implies(ab)Implies(ac))Implies(Implies(ab)Implies(ac)))))b)Implies(Implies(Not(Implies(Implies(ab)Implies(ac)))Not(Implies(Implies(Implies(ab)Implies(ac))Implies(Implies(ab)Implies(ac)))))Implies(bc))))Implies(ac))))))Implies(Implies(Implies(Implies(Implies(Implies(Implies(ab)Implies(ac))Implies(Implies(ab)Implies(ac)))Not(c))Implies(Not(Not(c))Not(Implies(Implies(Implies(ab)Implies(ac))Implies(Implies(ab)Implies(ac))))))a)c))Implies(Implies(Implies(Implies(Implies(Implies(Implies(ab)Implies(ac))Implies(Implies(ab)Implies(ac)))Not(c))Implies(Not(Not(c))Not(Implies(Implies(Implies(ab)Implies(ac))Implies(Implies(ab)Implies(ac))))))Implies(aImplies(Implies(Not(Implies(Implies(ab)Implies(ac)))Not(Implies(Implies(ab)Implies(ac))))Implies(Not(Implies(Implies(ab)Implies(ac)))Not(Implies(Implies(ab)Implies(ac)))))))Implies(Implies(Implies(Implies(Implies(Implies(Implies(ab)Implies(ac))Implies(Implies(ab)Implies(ac)))Not(c))Implies(Not(Not(c))Not(Implies(Implies(Implies(ab)Implies(ac))Implies(Implies(ab)Implies(ac))))))a)Implies(Implies(Implies(Implies(Implies(Implies(ab)Implies(ac))Implies(Implies(ab)Implies(ac)))Not(c))Implies(Not(Not(c))Not(Implies(Implies(Implies(ab)Implies(ac))Implies(Implies(ab)Implies(ac))))))Implies(Implies(Not(Implies(Implies(ab)Implies(ac)))Not(Implies(Implies(ab)Implies(ac))))Implies(Not(Implies(Implies(ab)Implies(ac)))Not(Implies(Implies(ab)Implies(ac)))))))))Implies(Implies(Implies(Implies(bc)Implies(Implies(Implies(Implies(Implies(ab)Implies(ac))Implies(Implies(ab)Implies(ac)))Implies(Implies(ab)Implies(ac)))Implies(Implies(ab)Implies(ac))))Implies(Not(Implies(Implies(Implies(Implies(Implies(ab)Implies(ac))Implies(Implies(ab)Implies(ac)))Implies(Implies(ab)Implies(ac)))Implies(Implies(ab)Implies(ac))))Not(Implies(bc))))Implies(Implies(Implies(Implies(Implies(Implies(Implies(Implies(Implies(ab)Implies(ac))Implies(Implies(ab)Implies(ac)))Not(c))Implies(Not(Not(c))Not(Implies(Implies(Implies(ab)Implies(ac))Implies(Implies(ab)Implies(ac))))))a)Implies(Not(Implies(Implies(Implies(Implies(Implies(Not(Implies(Implies(ab)Implies(ac)))Not(Implies(Implies(Implies(ab)Implies(ac))Implies(Implies(ab)Implies(ac)))))Implies(bImplies(bc)))Implies(Implies(Implies(Not(Implies(Implies(ab)Implies(ac)))Not(Implies(Implies(Implies(ab)Implies(ac))Implies(Implies(ab)Implies(ac)))))b)Implies(Implies(Not(Implies(Implies(ab)Implies(ac)))Not(Implies(Implies(Implies(ab)Implies(ac))Implies(Implies(ab)Implies(ac)))))Implies(bc))))Implies(aa))Implies(Implies(Implies(Implies(Not(Implies(Implies(ab)Implies(ac)))Not(Implies(Implies(Implies(ab)Implies(ac))Implies(Implies(ab)Implies(ac)))))Implies(bImplies(bc)))Implies(Implies(Implies(Not(Implies(Implies(ab)Implies(ac)))Not(Implies(Implies(Implies(ab)Implies(ac))Implies(Implies(ab)Implies(ac)))))b)Implies(Implies(Not(Implies(Implies(ab)Implies(ac)))Not(Implies(Implies(Implies(ab)Implies(ac))Implies(Implies(ab)Implies(ac)))))Implies(bc))))Not(Implies(bImplies(Implies(Implies(ab)Implies(ac))Implies(Implies(ab)Implies(ac))))))))Not(Implies(Implies(ab)Implies(Implies(Implies(Implies(Not(Implies(Implies(ab)Implies(ac)))Not(Implies(Implies(Implies(ab)Implies(ac))Implies(Implies(ab)Implies(ac)))))Implies(bImplies(bc)))Implies(Implies(Implies(Not(Implies(Implies(ab)Implies(ac)))Not(Implies(Implies(Implies(ab)Implies(ac))Implies(Implies(ab)Implies(ac)))))b)Implies(Implies(Not(Implies(Implies(ab)Implies(ac)))Not(Implies(Implies(Implies(ab)Implies(ac))Implies(Implies(ab)Implies(ac)))))Implies(bc))))Implies(ac))))))Implies(Implies(Implies(Implies(Implies(Implies(Implies(ab)Implies(ac))Implies(Implies(ab)Implies(ac)))Not(c))Implies(Not(Not(c))Not(Implies(Implies(Implies(ab)Implies(ac))Implies(Implies(ab)Implies(ac))))))a)c))Implies(Implies(Implies(Implies(Implies(Implies(Implies(ab)Implies(ac))Implies(Implies(ab)Implies(ac)))Not(c))Implies(Not(Not(c))Not(Implies(Implies(Implies(ab)Implies(ac))Implies(Implies(ab)Implies(ac))))))Implies(aImplies(Implies(Not(Implies(Implies(ab)Implies(ac)))Not(Implies(Implies(ab)Implies(ac))))Implies(Not(Implies(Implies(ab)Implies(ac)))Not(Implies(Implies(ab)Implies(ac)))))))Implies(Implies(Implies(Implies(Implies(Implies(Implies(ab)Implies(ac))Implies(Implies(ab)Implies(ac)))Not(c))Implies(Not(Not(c))Not(Implies(Implies(Implies(ab)Implies(ac))Implies(Implies(ab)Implies(ac))))))a)Implies(Implies(Implies(Implies(Implies(Implies(ab)Implies(ac))Implies(Implies(ab)Implies(ac)))Not(c))Implies(Not(Not(c))Not(Implies(Implies(Implies(ab)Implies(ac))Implies(Implies(ab)Implies(ac))))))Implies(Implies(Not(Implies(Implies(ab)Implies(ac)))Not(Implies(Implies(ab)Implies(ac))))Implies(Not(Implies(Implies(ab)Implies(ac)))Not(Implies(Implies(ab)Implies(ac)))))))))))\t Ax1\n",
       "2. Implies(Implies(Not(Not(Not(c)))Implies(Implies(Implies(ab)Implies(ac))Implies(Implies(ab)Implies(ac))))Implies(Not(Implies(Implies(Implies(ab)Implies(ac))Implies(Implies(ab)Implies(ac))))Not(Not(Not(Not(c))))))\t Ax3\n",
       "3. Implies(Implies(Implies(Implies(Implies(Implies(Implies(aa)Implies(aa))Implies(Implies(bc)Implies(bc)))Implies(bc))Implies(Implies(Implies(Implies(aa)Implies(aa))Implies(Implies(bc)Implies(bc)))Implies(Implies(Implies(ab)Implies(ac))Implies(Implies(ab)Implies(ac)))))Implies(Implies(ab)Implies(ac)))Implies(Not(Implies(Implies(ab)Implies(ac)))Not(Implies(Implies(Implies(Implies(Implies(aa)Implies(aa))Implies(Implies(bc)Implies(bc)))Implies(bc))Implies(Implies(Implies(Implies(aa)Implies(aa))Implies(Implies(bc)Implies(bc)))Implies(Implies(Implies(ab)Implies(ac))Implies(Implies(ab)Implies(ac))))))))\t Ax3\n",
       "4. Implies(Implies(Not(c)a)Implies(Not(a)Not(Not(c))))\t Ax3\n",
       "5. Implies(Implies(Implies(Implies(Implies(bImplies(Implies(Implies(ab)Implies(ac))Implies(Implies(ab)Implies(ac))))Implies(Implies(bc)Implies(bc)))Implies(bc))Implies(Implies(Implies(bImplies(Implies(Implies(ab)Implies(ac))Implies(Implies(ab)Implies(ac))))Implies(Implies(bc)Implies(bc)))Implies(bImplies(Implies(Implies(ab)Implies(ac))Implies(Implies(ab)Implies(ac))))))Implies(Implies(Implies(Implies(Implies(bImplies(Implies(Implies(ab)Implies(ac))Implies(Implies(ab)Implies(ac))))Implies(Implies(bc)Implies(bc)))Implies(Not(Implies(Implies(bc)Implies(bc)))Not(Implies(bImplies(Implies(Implies(ab)Implies(ac))Implies(Implies(ab)Implies(ac)))))))Implies(Implies(aa)a))Implies(Implies(Implies(Implies(bImplies(Implies(Implies(ab)Implies(ac))Implies(Implies(ab)Implies(ac))))Implies(Implies(bc)Implies(bc)))Implies(bc))Implies(Implies(Implies(bImplies(Implies(Implies(ab)Implies(ac))Implies(Implies(ab)Implies(ac))))Implies(Implies(bc)Implies(bc)))Implies(bImplies(Implies(Implies(ab)Implies(ac))Implies(Implies(ab)Implies(ac))))))))\t Ax1\n",
       "6. Implies(Implies(Implies(Implies(Implies(bImplies(Implies(Implies(ab)Implies(ac))Implies(Implies(ab)Implies(ac))))Implies(Implies(bc)Implies(bc)))Implies(bImplies(Implies(Implies(ab)Implies(ac))Implies(Implies(ab)Implies(ac)))))Implies(cImplies(bc)))Implies(Not(Implies(cImplies(bc)))Not(Implies(Implies(Implies(bImplies(Implies(Implies(ab)Implies(ac))Implies(Implies(ab)Implies(ac))))Implies(Implies(bc)Implies(bc)))Implies(bImplies(Implies(Implies(ab)Implies(ac))Implies(Implies(ab)Implies(ac))))))))\t Ax3\n",
       "7. Implies(Not(Implies(Implies(Implies(ab)Implies(ac))Implies(Implies(ab)Implies(ac))))Implies(Implies(Implies(bc)Implies(Implies(ab)Implies(ac)))Not(Implies(Implies(Implies(ab)Implies(ac))Implies(Implies(ab)Implies(ac))))))\t Ax1\n",
       "8. Implies(Implies(Implies(Implies(Not(Implies(Implies(ab)Implies(ac)))Not(Implies(Implies(Implies(ab)Implies(ac))Implies(Implies(ab)Implies(ac)))))Implies(bc))Implies(Implies(Implies(Implies(Implies(Implies(ab)Implies(ac))Implies(Implies(ab)Implies(ac)))Implies(Implies(ab)Implies(ac)))Implies(ab))Implies(Implies(Implies(Implies(Implies(ab)Implies(ac))Implies(Implies(ab)Implies(ac)))Implies(Implies(ab)Implies(ac)))Implies(ac))))Implies(Implies(Implies(Not(Implies(Implies(ab)Implies(ac)))Not(Implies(Implies(Implies(ab)Implies(ac))Implies(Implies(ab)Implies(ac)))))Implies(bc))Implies(Implies(Implies(Implies(Implies(Implies(ab)Implies(ac))Implies(Implies(ab)Implies(ac)))Implies(Implies(ab)Implies(ac)))Implies(ab))Implies(Implies(Implies(Implies(Implies(ab)Implies(ac))Implies(Implies(ab)Implies(ac)))Implies(Implies(ab)Implies(ac)))Implies(ac)))))\t Ax0\n",
       "9. Implies(Implies(Implies(Implies(bc)Implies(Implies(ab)Implies(bc)))Not(Not(c)))Implies(Implies(Implies(Not(c)Implies(Implies(Implies(bImplies(Implies(Implies(ab)Implies(ac))Implies(Implies(ab)Implies(ac))))Implies(Implies(bc)Implies(bc)))Implies(bc)))Implies(bImplies(bImplies(bc))))Implies(Implies(Implies(bc)Implies(Implies(ab)Implies(bc)))Not(Not(c)))))\t Ax1\n",
       "10. Implies(bc)\t ACP\n",
       "11. Implies(Not(Implies(Implies(Implies(Implies(bImplies(Implies(Implies(ab)Implies(ac))Implies(Implies(ab)Implies(ac))))Implies(Implies(bc)Implies(bc)))Implies(Implies(bc)Implies(bImplies(Implies(Implies(ab)Implies(ac))Implies(Implies(ab)Implies(ac))))))Implies(Implies(Implies(Not(Implies(Implies(ab)Implies(ac)))Not(Implies(Implies(ab)Implies(ac))))Implies(Not(Implies(Implies(ab)Implies(ac)))Not(Implies(Implies(ab)Implies(ac)))))Implies(Implies(Implies(bImplies(Implies(Implies(ab)Implies(ac))Implies(Implies(ab)Implies(ac))))Implies(Implies(bc)Implies(bc)))Implies(Implies(bc)Implies(bImplies(Implies(Implies(ab)Implies(ac))Implies(Implies(ab)Implies(ac)))))))))Not(Implies(Implies(Implies(Implies(bImplies(Implies(Implies(ab)Implies(ac))Implies(Implies(ab)Implies(ac))))Implies(Implies(bc)Implies(bc)))Implies(Implies(bc)Implies(bImplies(Implies(Implies(ab)Implies(ac))Implies(Implies(ab)Implies(ac))))))Implies(Implies(Implies(Not(Implies(Implies(ab)Implies(ac)))Not(Implies(Implies(ab)Implies(ac))))Implies(Not(Implies(Implies(ab)Implies(ac)))Not(Implies(Implies(ab)Implies(ac)))))Implies(Implies(Implies(bImplies(Implies(Implies(ab)Implies(ac))Implies(Implies(ab)Implies(ac))))Implies(Implies(bc)Implies(bc)))Implies(Implies(bc)Implies(bImplies(Implies(Implies(ab)Implies(ac))Implies(Implies(ab)Implies(ac))))))))))\t Ax0\n",
       "12. Implies(ab)\t ACP\n",
       "13. Implies(cc)\t Ax0\n",
       "14. Implies(Implies(Implies(ab)Implies(ac))Implies(Implies(ab)Implies(ac)))\t Ax0\n",
       "15. Implies(Implies(Implies(Implies(Implies(ab)Implies(ac))Implies(Implies(Implies(Implies(Implies(Implies(ab)Implies(ac))Implies(Implies(ab)Implies(ac)))Implies(Implies(ab)Implies(ac)))Implies(ab))Implies(Implies(Implies(Implies(Implies(ab)Implies(ac))Implies(Implies(ab)Implies(ac)))Implies(Implies(ab)Implies(ac)))Implies(ac))))Implies(ab))Implies(Implies(Implies(Implies(ab)Implies(ac))Implies(Implies(Implies(Implies(Implies(Implies(ab)Implies(ac))Implies(Implies(ab)Implies(ac)))Implies(Implies(ab)Implies(ac)))Implies(ab))Implies(Implies(Implies(Implies(Implies(ab)Implies(ac))Implies(Implies(ab)Implies(ac)))Implies(Implies(ab)Implies(ac)))Implies(ac))))Implies(ab)))\t Ax0\n",
       "16. a\t ACP\n",
       "17. b\t ['12 ', '16 ']\t MP\n",
       "18. Implies(Implies(Implies(bc)Implies(Implies(aImplies(Not(Not(Not(c)))a))Implies(Implies(Implies(bImplies(Implies(Implies(ab)Implies(ac))Implies(Implies(ab)Implies(ac))))Implies(Implies(bc)Implies(bc)))Implies(bc))))Implies(Implies(Implies(bc)Implies(aImplies(Not(Not(Not(c)))a)))Implies(Implies(bc)Implies(Implies(Implies(bImplies(Implies(Implies(ab)Implies(ac))Implies(Implies(ab)Implies(ac))))Implies(Implies(bc)Implies(bc)))Implies(bc)))))\t Ax2\n",
       "19. c\t ['10 ', '17 ']\t MP\n",
       "20. Implies(ac)\t CP\n",
       "21. Implies(Implies(ab)Implies(ac))\t CP\n",
       "22. Implies(Implies(bc)Implies(Implies(ab)Implies(ac)))\t CP\n",
       "--- Therefore ---\n",
       "22. Implies(Implies(bc)Implies(Implies(ab)Implies(ac)))\t CP"
      ]
     },
     "execution_count": 7,
     "metadata": {},
     "output_type": "execute_result"
    }
   ],
   "source": [
    "best_proof"
   ]
  },
  {
   "cell_type": "code",
   "execution_count": 6,
   "id": "75836027-88b6-4f3f-8330-8799b4f9ecb2",
   "metadata": {},
   "outputs": [
    {
     "data": {
      "text/plain": [
       "[]"
      ]
     },
     "execution_count": 6,
     "metadata": {},
     "output_type": "execute_result"
    }
   ],
   "source": [
    "best_proof.fix_lines()\n",
    "best_proof.proof_seq[2].derives"
   ]
  },
  {
   "cell_type": "code",
   "execution_count": 18,
   "id": "9961c5d2-016e-40a4-8155-86c7ee577db0",
   "metadata": {},
   "outputs": [],
   "source": [
    "prf = copy.deepcopy(best_proof.proof_seq)"
   ]
  },
  {
   "cell_type": "code",
   "execution_count": null,
   "id": "e796164a-becb-4788-a28f-f6e433b50ea4",
   "metadata": {},
   "outputs": [],
   "source": [
    "def get_branch(line, branch=[].copy()):\n",
    "    d = line.derives.copy()\n",
    "    if len(d) == 0:\n",
    "        branch.append(line)\n",
    "        print(line)\n",
    "        return branch\n",
    "    else:\n",
    "        for other_line in d:\n",
    "            d.remove(other_line)\n",
    "            get_branch(other_line, branch)\n",
    "        branch.append(line)\n",
    "    return branch\n",
    "\n",
    "print(get_branch(prf[2]))"
   ]
  },
  {
   "cell_type": "code",
   "execution_count": 6,
   "id": "0a11ca77-46c5-4dc6-ae6b-e4e104d3c3a6",
   "metadata": {},
   "outputs": [
    {
     "name": "stdout",
     "output_type": "stream",
     "text": [
      "1. Implies(aImplies(Implies(aa)a))\t Ax1\n",
      "[]\n",
      "\n",
      "\n",
      "\n",
      "1. Implies(Implies(Implies(aa)Implies(aa))Implies(Not(Implies(aa))Not(Implies(aa))))\t Ax3\n",
      "[]\n",
      "\n",
      "\n",
      "\n",
      "1. Implies(aa)\t Ax0\n",
      "[Implies(aImplies(Implies(Implies(aa)a)Implies(Implies(aa)a))), Implies(aImplies(aImplies(Implies(aa)a))), Implies(Implies(aa)Implies(aImplies(Implies(aa)a))), Implies(Not(a)Not(a))]\n",
      "\n",
      "\n",
      "\n",
      "1. Implies(Implies(aa)Implies(Not(a)Not(a)))\t Ax3\n",
      "[Implies(aImplies(Implies(Implies(aa)a)Implies(Implies(aa)a))), Implies(aImplies(aImplies(Implies(aa)a))), Implies(Implies(aa)Implies(aImplies(Implies(aa)a))), Implies(Not(a)Not(a))]\n",
      "\n",
      "\n",
      "\n",
      "Implies(Not(a)Not(a))\n",
      "[Implies(aImplies(Implies(Implies(aa)a)Implies(Implies(aa)a))), Implies(aImplies(aImplies(Implies(aa)a))), Implies(Implies(aa)Implies(aImplies(Implies(aa)a))), Implies(Not(a)Not(a))]\n",
      "\n",
      "\n",
      "\n",
      "Implies(Implies(Not(Implies(aa))Not(Implies(aa)))Implies(aImplies(Not(Implies(aa))Not(Implies(aa)))))\n",
      "[Implies(aImplies(Implies(Implies(aa)a)Implies(Implies(aa)a))), Implies(aImplies(aImplies(Implies(aa)a))), Implies(Implies(aa)Implies(aImplies(Implies(aa)a))), Implies(Not(a)Not(a))]\n",
      "\n",
      "\n",
      "\n",
      "Implies(Implies(Implies(Implies(Not(Implies(aa))Not(Implies(aa)))Implies(aImplies(Not(Implies(aa))Not(Implies(aa)))))Implies(Implies(aImplies(Not(Implies(aa))Not(Implies(aa))))Not(Implies(aa))))Implies(Implies(Implies(Implies(Not(Implies(aa))Not(Implies(aa)))Implies(aImplies(Not(Implies(aa))Not(Implies(aa)))))Implies(aImplies(Not(Implies(aa))Not(Implies(aa)))))Implies(Implies(Implies(Not(Implies(aa))Not(Implies(aa)))Implies(aImplies(Not(Implies(aa))Not(Implies(aa)))))Not(Implies(aa)))))\n",
      "[Implies(aImplies(Implies(Implies(aa)a)Implies(Implies(aa)a))), Implies(aImplies(aImplies(Implies(aa)a))), Implies(Implies(aa)Implies(aImplies(Implies(aa)a))), Implies(Not(a)Not(a))]\n",
      "\n",
      "\n",
      "\n",
      "Implies(Implies(Not(a)Implies(Implies(Implies(Not(Implies(aa))Not(Implies(aa)))Implies(aImplies(Not(Implies(aa))Not(Implies(aa)))))a))Implies(Implies(Not(a)Implies(Implies(Not(Implies(aa))Not(Implies(aa)))Implies(aImplies(Not(Implies(aa))Not(Implies(aa))))))Implies(Not(a)a)))\n",
      "[Implies(aImplies(Implies(Implies(aa)a)Implies(Implies(aa)a))), Implies(aImplies(aImplies(Implies(aa)a))), Implies(Implies(aa)Implies(aImplies(Implies(aa)a))), Implies(Not(a)Not(a))]\n",
      "\n",
      "\n",
      "\n",
      "Implies(Implies(Implies(Not(Implies(aa))Not(Implies(aa)))Implies(Implies(Implies(Implies(Not(Implies(aa))Not(Implies(aa)))Implies(aImplies(Not(Implies(aa))Not(Implies(aa)))))Implies(aImplies(Not(Implies(aa))Not(Implies(aa)))))Implies(Implies(Implies(Implies(Not(Implies(aa))Not(Implies(aa)))Implies(aImplies(Not(Implies(aa))Not(Implies(aa)))))Implies(aImplies(Not(Implies(aa))Not(Implies(aa)))))Implies(Implies(Implies(Not(Implies(aa))Not(Implies(aa)))Implies(aImplies(Not(Implies(aa))Not(Implies(aa)))))Not(Implies(aa))))))Implies(Implies(Implies(Not(Implies(aa))Not(Implies(aa)))Implies(Implies(Implies(Not(Implies(aa))Not(Implies(aa)))Implies(aImplies(Not(Implies(aa))Not(Implies(aa)))))Implies(aImplies(Not(Implies(aa))Not(Implies(aa))))))Implies(Implies(Not(Implies(aa))Not(Implies(aa)))Implies(Implies(Implies(Implies(Not(Implies(aa))Not(Implies(aa)))Implies(aImplies(Not(Implies(aa))Not(Implies(aa)))))Implies(aImplies(Not(Implies(aa))Not(Implies(aa)))))Implies(Implies(Implies(Not(Implies(aa))Not(Implies(aa)))Implies(aImplies(Not(Implies(aa))Not(Implies(aa)))))Not(Implies(aa)))))))\n",
      "[Implies(aImplies(Implies(Implies(aa)a)Implies(Implies(aa)a))), Implies(aImplies(aImplies(Implies(aa)a))), Implies(Implies(aa)Implies(aImplies(Implies(aa)a))), Implies(Not(a)Not(a))]\n",
      "\n",
      "\n",
      "\n",
      "Implies(Implies(Implies(Implies(Implies(Implies(Not(Implies(aa))Not(Implies(aa)))Implies(aImplies(Not(Implies(aa))Not(Implies(aa)))))Implies(aImplies(Not(Implies(aa))Not(Implies(aa)))))Implies(Implies(Implies(Implies(Not(Implies(aa))Not(Implies(aa)))Implies(aImplies(Not(Implies(aa))Not(Implies(aa)))))Implies(aImplies(Not(Implies(aa))Not(Implies(aa)))))Implies(Implies(Implies(Not(Implies(aa))Not(Implies(aa)))Implies(aImplies(Not(Implies(aa))Not(Implies(aa)))))Not(Implies(aa)))))Implies(Implies(Implies(Not(Implies(aa))Not(Implies(aa)))Implies(Implies(Implies(Not(Implies(aa))Not(Implies(aa)))Implies(aImplies(Not(Implies(aa))Not(Implies(aa)))))Implies(aImplies(Not(Implies(aa))Not(Implies(aa))))))Implies(Implies(Not(Implies(aa))Not(Implies(aa)))Implies(Implies(Implies(Implies(Not(Implies(aa))Not(Implies(aa)))Implies(aImplies(Not(Implies(aa))Not(Implies(aa)))))Implies(aImplies(Not(Implies(aa))Not(Implies(aa)))))Implies(Implies(Implies(Not(Implies(aa))Not(Implies(aa)))Implies(aImplies(Not(Implies(aa))Not(Implies(aa)))))Not(Implies(aa)))))))Implies(Not(Implies(Implies(Implies(Not(Implies(aa))Not(Implies(aa)))Implies(Implies(Implies(Not(Implies(aa))Not(Implies(aa)))Implies(aImplies(Not(Implies(aa))Not(Implies(aa)))))Implies(aImplies(Not(Implies(aa))Not(Implies(aa))))))Implies(Implies(Not(Implies(aa))Not(Implies(aa)))Implies(Implies(Implies(Implies(Not(Implies(aa))Not(Implies(aa)))Implies(aImplies(Not(Implies(aa))Not(Implies(aa)))))Implies(aImplies(Not(Implies(aa))Not(Implies(aa)))))Implies(Implies(Implies(Not(Implies(aa))Not(Implies(aa)))Implies(aImplies(Not(Implies(aa))Not(Implies(aa)))))Not(Implies(aa)))))))Not(Implies(Implies(Implies(Implies(Not(Implies(aa))Not(Implies(aa)))Implies(aImplies(Not(Implies(aa))Not(Implies(aa)))))Implies(aImplies(Not(Implies(aa))Not(Implies(aa)))))Implies(Implies(Implies(Implies(Not(Implies(aa))Not(Implies(aa)))Implies(aImplies(Not(Implies(aa))Not(Implies(aa)))))Implies(aImplies(Not(Implies(aa))Not(Implies(aa)))))Implies(Implies(Implies(Not(Implies(aa))Not(Implies(aa)))Implies(aImplies(Not(Implies(aa))Not(Implies(aa)))))Not(Implies(aa))))))))\n",
      "[Implies(aImplies(Implies(Implies(aa)a)Implies(Implies(aa)a))), Implies(aImplies(aImplies(Implies(aa)a))), Implies(Implies(aa)Implies(aImplies(Implies(aa)a))), Implies(Not(a)Not(a)), Implies(Implies(Implies(aImplies(Implies(aa)a))Implies(Implies(Implies(Implies(aImplies(Implies(aa)a))Implies(Implies(aImplies(Implies(aa)a))Implies(aa)))Implies(Implies(Implies(aImplies(Implies(aa)a))Implies(aImplies(Implies(aa)a)))Implies(Implies(aImplies(Implies(aa)a))Implies(aa))))Implies(Implies(Implies(Implies(aImplies(Implies(aa)a))Implies(aImplies(Implies(aa)a)))Implies(Implies(aImplies(Implies(aa)a))Implies(aa)))Implies(aImplies(Implies(aa)a)))))Implies(Implies(Implies(aImplies(Implies(aa)a))Implies(Implies(Implies(aImplies(Implies(aa)a))Implies(Implies(aImplies(Implies(aa)a))Implies(aa)))Implies(Implies(Implies(aImplies(Implies(aa)a))Implies(aImplies(Implies(aa)a)))Implies(Implies(aImplies(Implies(aa)a))Implies(aa)))))Implies(Implies(aImplies(Implies(aa)a))Implies(Implies(Implies(Implies(aImplies(Implies(aa)a))Implies(aImplies(Implies(aa)a)))Implies(Implies(aImplies(Implies(aa)a))Implies(aa)))Implies(aImplies(Implies(aa)a))))))]\n",
      "\n",
      "\n",
      "\n"
     ]
    }
   ],
   "source": [
    "for i in range(0, len(population[0].proof_seq)-1):\n",
    "    print(population[0].proof_seq[i])\n",
    "    print(population[0].proof_seq[i].derives)\n",
    "    print('\\n\\n')"
   ]
  },
  {
   "cell_type": "code",
   "execution_count": 162,
   "id": "ddd8040a-fd00-43fb-a6a6-3fecdc640be8",
   "metadata": {},
   "outputs": [
    {
     "data": {
      "text/plain": [
       "And(Implies(pq)r)"
      ]
     },
     "execution_count": 162,
     "metadata": {},
     "output_type": "execute_result"
    }
   ],
   "source": [
    "T = Operator('And', [Operator('Implies',[Operator('p'),Operator('q')]), Operator('r')])\n",
    "T"
   ]
  },
  {
   "cell_type": "code",
   "execution_count": 124,
   "id": "006dc256-de0b-471a-aa3d-3e66c88d4b02",
   "metadata": {},
   "outputs": [
    {
     "data": {
      "text/plain": [
       "[And(Implies(pq)r), Implies(pq), p, q, r]"
      ]
     },
     "execution_count": 124,
     "metadata": {},
     "output_type": "execute_result"
    }
   ],
   "source": [
    "T.get_terms()"
   ]
  },
  {
   "cell_type": "code",
   "execution_count": 163,
   "id": "ef2917cd-7039-4e38-8570-2b460d5a115c",
   "metadata": {},
   "outputs": [
    {
     "data": {
      "text/plain": [
       "True"
      ]
     },
     "execution_count": 163,
     "metadata": {},
     "output_type": "execute_result"
    }
   ],
   "source": [
    "R = Operator('And', [Operator('Implies',[Operator('p'),Operator('q')]), Operator('r')])\n",
    "l = [R]\n",
    "T in l"
   ]
  },
  {
   "cell_type": "code",
   "execution_count": 87,
   "id": "e90c9da4-f770-4a32-9526-76ffff0b1f68",
   "metadata": {},
   "outputs": [
    {
     "data": {
      "text/plain": [
       "False"
      ]
     },
     "execution_count": 87,
     "metadata": {},
     "output_type": "execute_result"
    }
   ],
   "source": [
    "tst2 = Operator('Implies', [Operator('b'), Operator('a')])\n",
    "tst.includes(tst2)"
   ]
  },
  {
   "cell_type": "code",
   "execution_count": 52,
   "id": "b655a21d-bb3a-48b8-aa2a-d569770b93e5",
   "metadata": {},
   "outputs": [
    {
     "data": {
      "text/plain": [
       "['p', 'q', 'r']"
      ]
     },
     "execution_count": 52,
     "metadata": {},
     "output_type": "execute_result"
    }
   ],
   "source": [
    "T.get_vars()"
   ]
  },
  {
   "cell_type": "code",
   "execution_count": 53,
   "id": "a164eeb3-0f7e-4e2d-a855-207f157aba0c",
   "metadata": {},
   "outputs": [],
   "source": [
    "P=Prover(T)"
   ]
  },
  {
   "cell_type": "code",
   "execution_count": 54,
   "id": "fa537b40-30bd-4b39-af4d-dc81fd07cb7f",
   "metadata": {},
   "outputs": [
    {
     "data": {
      "text/plain": [
       "['a',\n",
       " 'b',\n",
       " 'c',\n",
       " 'd',\n",
       " 'e',\n",
       " 'f',\n",
       " 'g',\n",
       " 'h',\n",
       " 'i',\n",
       " 'j',\n",
       " 'k',\n",
       " 'l',\n",
       " 'm',\n",
       " 'n',\n",
       " 'o',\n",
       " 's',\n",
       " 't',\n",
       " 'u',\n",
       " 'v',\n",
       " 'w',\n",
       " 'x',\n",
       " 'y',\n",
       " 'z']"
      ]
     },
     "execution_count": 54,
     "metadata": {},
     "output_type": "execute_result"
    }
   ],
   "source": [
    "P.available"
   ]
  },
  {
   "cell_type": "code",
   "execution_count": 8,
   "id": "d936aff7-0f60-4c93-86b6-fb1f0ad70ebe",
   "metadata": {},
   "outputs": [],
   "source": [
    "P=Prover(Operator('Implies', [Operator('a'), Operator('a')]))"
   ]
  },
  {
   "cell_type": "code",
   "execution_count": 159,
   "id": "e31b2f79-f88f-4c23-a575-0fb911e8c0d7",
   "metadata": {},
   "outputs": [
    {
     "data": {
      "text/plain": [
       "[1. Implies(Implies(Implies(aa)a)Implies(Not(a)Not(Implies(aa))))\t Ax3]"
      ]
     },
     "execution_count": 159,
     "metadata": {},
     "output_type": "execute_result"
    }
   ],
   "source": [
    "P.proof_seq"
   ]
  },
  {
   "cell_type": "code",
   "execution_count": 160,
   "id": "104f2d25-5660-42cd-b3c2-4333a977c954",
   "metadata": {},
   "outputs": [
    {
     "data": {
      "text/plain": [
       "[Implies(aa),\n",
       " a,\n",
       " Implies(Implies(Implies(aa)a)Implies(Not(a)Not(Implies(aa)))),\n",
       " Implies(Implies(aa)a),\n",
       " Implies(Not(a)Not(Implies(aa))),\n",
       " Not(a),\n",
       " Not(Implies(aa))]"
      ]
     },
     "execution_count": 160,
     "metadata": {},
     "output_type": "execute_result"
    }
   ],
   "source": [
    "P.terms"
   ]
  },
  {
   "cell_type": "code",
   "execution_count": 136,
   "id": "c7ac02fe-d84f-4c1e-8948-104544849512",
   "metadata": {},
   "outputs": [
    {
     "data": {
      "text/plain": [
       "True"
      ]
     },
     "execution_count": 136,
     "metadata": {},
     "output_type": "execute_result"
    }
   ],
   "source": [
    "'a' in alphabet"
   ]
  },
  {
   "cell_type": "code",
   "execution_count": 137,
   "id": "dc6ca3fa-7364-4a7c-bf03-5d13811f22a7",
   "metadata": {},
   "outputs": [
    {
     "data": {
      "text/plain": [
       "True"
      ]
     },
     "execution_count": 137,
     "metadata": {},
     "output_type": "execute_result"
    }
   ],
   "source": [
    "Operator('a').name in alphabet"
   ]
  },
  {
   "cell_type": "code",
   "execution_count": 20,
   "id": "036458db-31ae-49fe-907e-57cb9d9b8f80",
   "metadata": {},
   "outputs": [],
   "source": [
    "T = Axiom(2, [Operator('a'), Operator('a'), Operator('a')])"
   ]
  },
  {
   "cell_type": "code",
   "execution_count": 21,
   "id": "85809388-4c46-4a97-b43b-fb90336977b7",
   "metadata": {},
   "outputs": [
    {
     "data": {
      "text/plain": [
       "4"
      ]
     },
     "execution_count": 21,
     "metadata": {},
     "output_type": "execute_result"
    }
   ],
   "source": [
    "T.height()"
   ]
  },
  {
   "cell_type": "code",
   "execution_count": 18,
   "id": "52484587-cc96-4585-98e7-6d75ae4ba7ec",
   "metadata": {},
   "outputs": [
    {
     "data": {
      "text/plain": [
       "Implies(Implies(aImplies(aa))Implies(Implies(aa)Implies(aa)))"
      ]
     },
     "execution_count": 18,
     "metadata": {},
     "output_type": "execute_result"
    }
   ],
   "source": [
    "T"
   ]
  },
  {
   "cell_type": "code",
   "execution_count": 62,
   "id": "d29ea4a3-dc34-4069-b111-fe92c3c6cb3b",
   "metadata": {},
   "outputs": [
    {
     "data": {
      "text/plain": [
       "[0, 1, 2, 3, 4, 5, 6, 7, 8, 9, 10, 11, 12, 13, 14, 15, 16, 17, 18, 19]"
      ]
     },
     "execution_count": 62,
     "metadata": {},
     "output_type": "execute_result"
    }
   ],
   "source": [
    "l = [i for i in range(20)]\n",
    "sorted(l)"
   ]
  },
  {
   "cell_type": "code",
   "execution_count": 30,
   "id": "e5fd4001-9cf3-4e76-aa1c-c963031e8901",
   "metadata": {},
   "outputs": [],
   "source": [
    "T= Operator('Implies', [Operator('Implies', [Operator('b'), Operator('c')]), Operator('Implies', [Operator('Implies', [Operator('a'), Operator('b')])  ,Operator('Implies', [Operator('a'), Operator('c')]) ])])"
   ]
  },
  {
   "cell_type": "code",
   "execution_count": 31,
   "id": "6dbdbc10-a649-48e6-b48c-d0d7b0a12bf8",
   "metadata": {},
   "outputs": [
    {
     "data": {
      "text/plain": [
       "Implies(Implies(bc)Implies(Implies(ab)Implies(ac)))"
      ]
     },
     "execution_count": 31,
     "metadata": {},
     "output_type": "execute_result"
    }
   ],
   "source": [
    "T"
   ]
  },
  {
   "cell_type": "code",
   "execution_count": 21,
   "id": "63dd4135-06bf-4495-8ae5-f3187f6f4248",
   "metadata": {},
   "outputs": [
    {
     "name": "stdout",
     "output_type": "stream",
     "text": [
      "False\n",
      "False\n"
     ]
    }
   ],
   "source": [
    "p1 = Prover(Operator('a'))\n",
    "p2 = Prover(Operator('a'))\n",
    "print(p2 == p1)\n",
    "print(p2 is p1)"
   ]
  },
  {
   "cell_type": "code",
   "execution_count": 22,
   "id": "3615457c-675c-4b61-baad-3c475c2680ca",
   "metadata": {},
   "outputs": [
    {
     "data": {
      "text/plain": [
       "[1. Implies(cc)\t Ax0, 2. Implies(Implies(aImplies(aa))Implies(Implies(aa)Implies(aa)))\t Ax2, 3. Implies(Implies(aImplies(aa))Implies(Implies(aa)Implies(aa)))\t Ax2]"
      ]
     },
     "execution_count": 22,
     "metadata": {},
     "output_type": "execute_result"
    }
   ],
   "source": [
    "p1"
   ]
  },
  {
   "cell_type": "code",
   "execution_count": 23,
   "id": "43fa2335-bfcc-4bc7-9c3f-08bbfefb1243",
   "metadata": {},
   "outputs": [
    {
     "data": {
      "text/plain": [
       "[1. Implies(cc)\t Ax0, 2. Implies(Implies(aImplies(aa))Implies(Implies(aa)Implies(aa)))\t Ax2, 3. Implies(Implies(aImplies(aa))Implies(Implies(aa)Implies(aa)))\t Ax2]"
      ]
     },
     "execution_count": 23,
     "metadata": {},
     "output_type": "execute_result"
    }
   ],
   "source": [
    "p2"
   ]
  },
  {
   "cell_type": "code",
   "execution_count": 24,
   "id": "70f34466-10e2-4a9c-8994-dd4876352c7c",
   "metadata": {},
   "outputs": [
    {
     "name": "stdout",
     "output_type": "stream",
     "text": [
      "True\n",
      "False\n"
     ]
    }
   ],
   "source": [
    "o1 = Operator('a')\n",
    "o2 = Operator('a')\n",
    "print(o2 == o1)\n",
    "print(o2 is o1)"
   ]
  },
  {
   "cell_type": "code",
   "execution_count": null,
   "id": "b3952d52-dcfa-4db2-b1fc-fc9a40c2c2e0",
   "metadata": {},
   "outputs": [],
   "source": []
  }
 ],
 "metadata": {
  "kernelspec": {
   "display_name": "Python [conda env:Anaconda3]",
   "language": "python",
   "name": "conda-env-Anaconda3-py"
  },
  "language_info": {
   "codemirror_mode": {
    "name": "ipython",
    "version": 3
   },
   "file_extension": ".py",
   "mimetype": "text/x-python",
   "name": "python",
   "nbconvert_exporter": "python",
   "pygments_lexer": "ipython3",
   "version": "3.8.3"
  }
 },
 "nbformat": 4,
 "nbformat_minor": 5
}
